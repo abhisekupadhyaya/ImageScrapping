{
 "cells": [
  {
   "cell_type": "code",
   "execution_count": 1,
   "metadata": {
    "collapsed": true
   },
   "outputs": [],
   "source": [
    "import os\n",
    "import sys\n",
    "import requests\n",
    "import functools\n",
    "import numpy as np\n",
    "import pandas as pd\n",
    "import multiprocessing\n",
    "from bs4 import BeautifulSoup"
   ]
  },
  {
   "cell_type": "code",
   "execution_count": null,
   "metadata": {
    "collapsed": true
   },
   "outputs": [],
   "source": [
    "class Scrapper:\n",
    "    \n",
    "    def __init__(self, search_link, search_text_prefix,\n",
    "                 search_text_postfix, page_num_prefix,\n",
    "                 white_space_subtitute, search_page_img_tag,\n",
    "                 img_page_tag):\n",
    "        \n",
    "        self.search_link           = search_link\n",
    "        self.img_page_tag          = img_page_tag\n",
    "        self.page_num_prefix       = page_num_prefix\n",
    "        self.search_text_prefix    = search_text_prefix\n",
    "        self.search_page_img_tag   = search_page_img_tag\n",
    "        self.search_text_postfix   = search_text_postfix\n",
    "        self.white_space_subtitute = white_space_subtitute\n",
    "        \n",
    "        \n",
    "    def create_folder(self, folder_name):\n",
    "        class_name = self.__class__.__name__\n",
    "        new_folder_name = \"/\" + class_name + \"/\" + folder_name\n",
    "        file_location = os.getcwd() + new_folder_name\n",
    "        if not os.path.isdir(file_location):\n",
    "            os.makedirs(file_location)"
   ]
  }
 ],
 "metadata": {
  "kernelspec": {
   "display_name": "Python 3",
   "language": "python",
   "name": "python3"
  },
  "language_info": {
   "codemirror_mode": {
    "name": "ipython",
    "version": 3
   },
   "file_extension": ".py",
   "mimetype": "text/x-python",
   "name": "python",
   "nbconvert_exporter": "python",
   "pygments_lexer": "ipython3",
   "version": "3.6.4"
  }
 },
 "nbformat": 4,
 "nbformat_minor": 2
}
