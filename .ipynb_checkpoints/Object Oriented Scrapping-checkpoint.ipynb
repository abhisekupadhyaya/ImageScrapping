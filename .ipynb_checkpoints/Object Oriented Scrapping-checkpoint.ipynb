{
 "cells": [
  {
   "cell_type": "code",
   "execution_count": 1,
   "metadata": {
    "collapsed": true
   },
   "outputs": [],
   "source": [
    "import os\n",
    "import sys\n",
    "import requests\n",
    "import functools\n",
    "import numpy as np\n",
    "import pandas as pd\n",
    "import multiprocessing\n",
    "from bs4 import BeautifulSoup"
   ]
  },
  {
   "cell_type": "code",
   "execution_count": null,
   "metadata": {
    "collapsed": true
   },
   "outputs": [],
   "source": [
    "class Scrapper:\n",
    "    \n",
    "    def __init__(self, search_link, search_keyword_prefix,\n",
    "                 search_text_postfix, page_num_prefix,\n",
    "                 white_space_subtitute, search_img_class,\n",
    "                 img_page_tag, img_per_page):\n",
    "        \n",
    "        self.search_link           = search_link\n",
    "        self.img_page_tag          = img_page_tag\n",
    "        self.img_per_page          = img_per_page\n",
    "        self.page_num_prefix       = page_num_prefix\n",
    "        self.search_img_class      = search_img_class\n",
    "        self.search_text_postfix   = search_text_postfix\n",
    "        self.white_space_subtitute = white_space_subtitute\n",
    "        self.search_keyword_prefix = search_keyword_prefix\n",
    "        \n",
    "        self.create_folder(\"\")\n",
    "        \n",
    "        \n",
    "    def create_folder(self, folder_name):\n",
    "        class_name = self.__class__.__name__\n",
    "        new_folder_name = \"/\" + class_name\n",
    "        if(folder_name != \"\"):\n",
    "            new_folder_name += \"/\" + folder_name\n",
    "        \n",
    "        file_location = os.getcwd() + new_folder_name\n",
    "        \n",
    "        if not os.path.isdir(file_location):\n",
    "            os.makedirs(file_location)\n",
    "\n",
    "\n",
    "    def search_page(self, keyword, num_of_img):\n",
    "        create_folder(\"data\")\n",
    "        total_search_pages = int(num_of_img/self.img_per_page) + 1\n",
    "        \n",
    "        key_text = search_text.replace(\" \", self.white_space_subtitute)\n",
    "        key_text = key_text.lower()\n",
    "        page_no = 1\n",
    "        \n",
    "        search_url = self.search_link + search_text_prefix + \\\n",
    "                     key_text + self.search_text_postfix\n",
    "        search_link = search_url\n",
    "            \n",
    "        while(page_no <= total_search_pages):\n",
    "            search_result = requests.get(search_link).content\n",
    "            web_page = BeautifulSoup(search_result,'html.parser')\n",
    "        \n",
    "            page_no += 1\n",
    "            search_link = search_url + self.page_num_prefix + str(page_no)\n",
    "        \n",
    "            yield web_page.find_all(\"a\", class_ = self.search_img_class)"
   ]
  }
 ],
 "metadata": {
  "kernelspec": {
   "display_name": "Python 3",
   "language": "python",
   "name": "python3"
  },
  "language_info": {
   "codemirror_mode": {
    "name": "ipython",
    "version": 3
   },
   "file_extension": ".py",
   "mimetype": "text/x-python",
   "name": "python",
   "nbconvert_exporter": "python",
   "pygments_lexer": "ipython3",
   "version": "3.6.4"
  }
 },
 "nbformat": 4,
 "nbformat_minor": 2
}
