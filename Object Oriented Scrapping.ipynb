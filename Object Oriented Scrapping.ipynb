{
 "cells": [
  {
   "cell_type": "code",
   "execution_count": 1,
   "metadata": {
    "collapsed": true
   },
   "outputs": [],
   "source": [
    "import os\n",
    "import sys\n",
    "import requests\n",
    "import functools\n",
    "import numpy as np\n",
    "import pandas as pd\n",
    "import multiprocessing\n",
    "from bs4 import BeautifulSoup"
   ]
  },
  {
   "cell_type": "code",
   "execution_count": null,
   "metadata": {
    "collapsed": true
   },
   "outputs": [],
   "source": [
    "class Scrapper:\n",
    "    \n",
    "    def __init__(self, search_link_prefix,\n",
    "                 search_link_postfix\n",
    "                 search_page__no_prefix,\n",
    "                 white_space_subtitute):\n",
    "        \n",
    "        \n",
    "    def create_folder(self, folder_name):\n",
    "        new_folder_name = \"/\" + self.__name__ + \"/\" + folder_name\n",
    "        file_location = os.getcwd() + new_folder_name\n",
    "        if not os.path.isdir(file_location):\n",
    "            os.makedirs(file_location)"
   ]
  }
 ],
 "metadata": {
  "kernelspec": {
   "display_name": "Python 3",
   "language": "python",
   "name": "python3"
  },
  "language_info": {
   "codemirror_mode": {
    "name": "ipython",
    "version": 3
   },
   "file_extension": ".py",
   "mimetype": "text/x-python",
   "name": "python",
   "nbconvert_exporter": "python",
   "pygments_lexer": "ipython3",
   "version": "3.6.4"
  }
 },
 "nbformat": 4,
 "nbformat_minor": 2
}
