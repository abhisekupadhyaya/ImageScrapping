{
 "cells": [
  {
   "cell_type": "code",
   "execution_count": 1,
   "metadata": {
    "collapsed": true
   },
   "outputs": [],
   "source": [
    "import os\n",
    "import sys\n",
    "import requests\n",
    "import functools\n",
    "import numpy as np\n",
    "import pandas as pd\n",
    "import multiprocessing\n",
    "from bs4 import BeautifulSoup"
   ]
  },
  {
   "cell_type": "code",
   "execution_count": 2,
   "metadata": {
    "collapsed": true
   },
   "outputs": [],
   "source": [
    "def is_ethnicity(given_tag):\n",
    "    if 'Ethnicity' in given_tag:\n",
    "        return True\n",
    "    else:\n",
    "        return False"
   ]
  },
  {
   "cell_type": "code",
   "execution_count": 3,
   "metadata": {
    "collapsed": true
   },
   "outputs": [],
   "source": [
    "nationality_list = pd.read_csv('demonyms.csv', header=None)[0]\n",
    "\n",
    "def is_nationality(given_tag, nationality = nationality_list):\n",
    "    if any(word in given_tag for word in nationality):\n",
    "        return True\n",
    "    else:   \n",
    "        return False"
   ]
  },
  {
   "cell_type": "code",
   "execution_count": 4,
   "metadata": {
    "collapsed": true
   },
   "outputs": [],
   "source": [
    "def is_gender(given_tag):\n",
    "    gender_words = ('Men', 'Man', 'Boy', 'Boys' 'Males', 'Male', \n",
    "                    'Girl', 'Girls', 'Women', 'Woman', 'Female', 'Females')\n",
    "    \n",
    "    if any(word in given_tag for word in gender_words):\n",
    "        return True\n",
    "    else:\n",
    "        return False"
   ]
  },
  {
   "cell_type": "code",
   "execution_count": 5,
   "metadata": {
    "collapsed": true
   },
   "outputs": [],
   "source": [
    "def is_maturity(given_tag):\n",
    "    maturity_words = ('Young', 'Old', 'Adult', 'Child', 'Mature')\n",
    "    \n",
    "    if any(word in given_tag for word in maturity_words):\n",
    "        return True\n",
    "    else:\n",
    "        return False"
   ]
  },
  {
   "cell_type": "code",
   "execution_count": 6,
   "metadata": {
    "collapsed": true
   },
   "outputs": [],
   "source": [
    "def filter_tags(tags):\n",
    "    ethnicity = []\n",
    "    nationality = []\n",
    "    gender = []\n",
    "    maturity = []\n",
    "    \n",
    "    for tag in tags:\n",
    "        if is_gender(tag):\n",
    "            gender.append(tag)\n",
    "        \n",
    "        if is_maturity(tag):\n",
    "            maturity.append(tag)\n",
    "            \n",
    "        if is_ethnicity(tag):\n",
    "            ethnicity.append(tag.replace(\" Ethnicity\", \"\"))\n",
    "        elif is_nationality(tag):\n",
    "            nationality.append(tag)\n",
    "            \n",
    "    return {'Ethnicity': ethnicity, 'Nationality': nationality, \n",
    "                   'Gender': gender, 'Maturity': maturity}"
   ]
  },
  {
   "cell_type": "code",
   "execution_count": 7,
   "metadata": {
    "collapsed": true
   },
   "outputs": [],
   "source": [
    "def get_photo_tags(image_page_url):\n",
    "    tag_list = []\n",
    "    \n",
    "    image_page = requests.get(image_page_url).content\n",
    "    for image_tag in BeautifulSoup(image_page,\n",
    "                                   'html.parser').find_all(class_ = 'keyword'):\n",
    "        tag_list.append(image_tag.get_text())\n",
    "        \n",
    "    return filter_tags(tag_list)"
   ]
  },
  {
   "cell_type": "code",
   "execution_count": 8,
   "metadata": {
    "collapsed": true
   },
   "outputs": [],
   "source": [
    "def download_image():\n",
    "    while(True):\n",
    "        input_option = input(\"Do You Want To Download Image Or URL (I/U) : \")\n",
    "    \n",
    "    \n",
    "        if((input_option == 'I')|(input_option == 'i')):\n",
    "            return True\n",
    "        elif ((input_option == 'U')|(input_option == 'u')):\n",
    "            return False\n",
    "        else:\n",
    "            print(\"Wrong Option Try Again\\n\")"
   ]
  },
  {
   "cell_type": "code",
   "execution_count": 9,
   "metadata": {
    "collapsed": true
   },
   "outputs": [],
   "source": [
    "def save_image(image):\n",
    "    img = requests.get(image['Image URL'])\n",
    "    if img.status_code == 200:\n",
    "        file_location = os.getcwd() + \"/data/img/\" \n",
    "        if not os.path.isdir(file_location):\n",
    "            os.makedirs(file_location)\n",
    "\n",
    "        with open(file_location + image['Image Name'] + '.jpg', 'wb') as file:\n",
    "            file.write(img.content)"
   ]
  },
  {
   "cell_type": "code",
   "execution_count": 10,
   "metadata": {
    "collapsed": true
   },
   "outputs": [],
   "source": [
    "def get_search_page(search_text, number_of_image):\n",
    "    file_location = os.getcwd() + \"/data/\" \n",
    "    if not os.path.isdir(file_location):\n",
    "        os.makedirs(file_location)\n",
    "            \n",
    "    search_url = \"https://www.gettyimages.in/photos/\"\n",
    "    page_tag = '?page='\n",
    "    page_no = 1\n",
    "    \n",
    "    number_of_page = int(number_of_image/60) + 1\n",
    "    \n",
    "    for words in list(search_text.split()):\n",
    "        search_url = search_url + words.lower() + '-'\n",
    "        \n",
    "    search_url = search_url[:-1]\n",
    "    \n",
    "    search_link = search_url\n",
    "    \n",
    "    while(page_no <= number_of_page):\n",
    "        requested_page = requests.get(search_link).content\n",
    "        image_page = BeautifulSoup(requested_page, 'html.parser')\n",
    "        \n",
    "        yield image_page.find_all('article')\n",
    "        \n",
    "        page_no += 1\n",
    "        search_link = search_url + page_tag + str(page_no)"
   ]
  },
  {
   "cell_type": "code",
   "execution_count": 11,
   "metadata": {
    "collapsed": true
   },
   "outputs": [],
   "source": [
    "def get_page_data(image_webpage, download_option):\n",
    "    image_page_start = \"https://www.gettyimages.in/detail/photo/\"\n",
    "    image_link = \"https://media.gettyimages.com/photos/\"\n",
    "    image_page_tag = \"-royalty-free-image/\"\n",
    "    \n",
    "    columns_name = ['Image Name', 'Ethnicity', 'Nationality',\n",
    "                    'Gender', 'Maturity', 'Image URL']\n",
    "    \n",
    "    page_image_data = pd.DataFrame(columns=columns_name)\n",
    "    \n",
    "    for image_data in image_webpage:\n",
    "        image_extracted_data  = image_data.find('img')\n",
    "        \n",
    "        image_src = image_extracted_data['src']\n",
    "        image_url = image_src.replace('?', \" \").split()[0]\n",
    "        \n",
    "        image_page_url = image_url.replace(image_link,\n",
    "                                           image_page_start).replace('-id', \n",
    "                                                                     image_page_tag)\n",
    "        \n",
    "        image_name = image_extracted_data['alt']\n",
    "        \n",
    "        image_information = {'Image Name': image_name, 'Image URL': image_url}\n",
    "        \n",
    "        if download_option:\n",
    "            save_image(image_information)\n",
    "        \n",
    "        image_tag = get_photo_tags(image_page_url)\n",
    "        \n",
    "        image_information.update(image_tag)\n",
    "        \n",
    "        for tag_name, tag_element in image_tag.items():\n",
    "            if not tag_element:\n",
    "                del image_information[tag_name]\n",
    "        \n",
    "        page_image_data = page_image_data.append(image_information, ignore_index=True)\n",
    "    \n",
    "    return page_image_data"
   ]
  },
  {
   "cell_type": "code",
   "execution_count": 12,
   "metadata": {
    "collapsed": true
   },
   "outputs": [],
   "source": [
    "def scrap_page():\n",
    "    keyword = str(input(\"\\nEnter Keyword: \"))\n",
    "    pic_number = int(input(\"\\nEnter The Number of Picture You Want To Download : \"))\n",
    "    download_option = download_image()\n",
    "    \n",
    "    if __name__ == '__main__':\n",
    "        sys.setrecursionlimit(1000000000)\n",
    "        processes = multiprocessing.cpu_count()\n",
    "    \n",
    "        columns_name = ['Image Name', 'Ethnicity', 'Nationality',\n",
    "                        'Gender', 'Maturity', 'Image URL']\n",
    "    \n",
    "        image_data = pd.DataFrame(columns=columns_name)\n",
    "    \n",
    "        get_web_page = get_search_page(keyword, pic_number)\n",
    "        \n",
    "        number_of_page = int(pic_number/60) + 1\n",
    "        number_of_full_process = int(number_of_page/4)\n",
    "        number_of_incomplete_process = number_of_page - number_of_full_process*4\n",
    "        get_page_data_option  = functools.partial(get_page_data,\n",
    "                                                  download_option = download_option)\n",
    "        \n",
    "        for __ in range(number_of_full_process):\n",
    "            with multiprocessing.Pool(processes=processes) as pool:\n",
    "                result = pool.map(get_page_data_option, \n",
    "                                  [next(get_web_page) for _ in range(processes)])\n",
    "            \n",
    "                for page_image_data in result:\n",
    "                    image_data = image_data.append(page_image_data, ignore_index=True)\n",
    "                    \n",
    "        with multiprocessing.Pool(processes = number_of_incomplete_process) as pool:\n",
    "            result = pool.map(get_page_data_option,\n",
    "                              [next(get_web_page) for _ in range(number_of_incomplete_process)])\n",
    "            \n",
    "            for page_image_data in result:\n",
    "                image_data = image_data.append(page_image_data, ignore_index=True)\n",
    "                    \n",
    "        image_data.to_csv('data/image_data.csv')"
   ]
  },
  {
   "cell_type": "code",
   "execution_count": null,
   "metadata": {
    "collapsed": true
   },
   "outputs": [],
   "source": [
    "scrap_page()"
   ]
  }
 ],
 "metadata": {
  "kernelspec": {
   "display_name": "Python 3",
   "language": "python",
   "name": "python3"
  },
  "language_info": {
   "codemirror_mode": {
    "name": "ipython",
    "version": 3
   },
   "file_extension": ".py",
   "mimetype": "text/x-python",
   "name": "python",
   "nbconvert_exporter": "python",
   "pygments_lexer": "ipython3",
   "version": "3.6.4"
  }
 },
 "nbformat": 4,
 "nbformat_minor": 2
}
